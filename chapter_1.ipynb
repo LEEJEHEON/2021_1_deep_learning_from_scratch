{
 "cells": [
  {
   "cell_type": "markdown",
   "id": "confident-aerospace",
   "metadata": {},
   "source": [
    "# CHARTER 1 헬로 파이썬"
   ]
  },
  {
   "cell_type": "markdown",
   "id": "unlike-colorado",
   "metadata": {},
   "source": [
    "<h3> 1.1 파이썬이란? </h3>\n",
    "- 간단하고 배우기 쉬운 프로그래밍 언어<br>\n",
    "- 오픈 소스라서 무료로 자유롭게 이용가능 <br>\n",
    "- 프로그래밍 입문자에게 최적인 언어\n",
    "- 코드는 읽기 쉽고 성능도 뛰어나다.<br>\n",
    "- 과학 분야, 특히 기계학습과 데이터 과학 분야에서 널리 쓰인다. <br>\n",
    "- 유명 딥러닝 프레임워크들이 파이썬용 API를 제공(Caffe, Tensorflow, Chainer, Theano, sklearn, keras 등) <BR>\n",
    "    "
   ]
  },
  {
   "cell_type": "markdown",
   "id": "forbidden-following",
   "metadata": {},
   "source": [
    "<h3> 1.2 파이썬 설치하기 </h3>\n",
    "- 버전은 3과 2가 있는데 둘이 호환이 안됨 (참고로 책에서는 3씀)<br>\n",
    "- 외부 라이브러리는 numpy와 matplotlib 사용 <br>\n",
    "- 아나콘다 설치"
   ]
  },
  {
   "cell_type": "code",
   "execution_count": 8,
   "id": "placed-threshold",
   "metadata": {},
   "outputs": [
    {
     "name": "stdout",
     "output_type": "stream",
     "text": [
      "3.6.10 |Anaconda, Inc.| (default, May  7 2020, 19:46:08) [MSC v.1916 64 bit (AMD64)]\n"
     ]
    }
   ],
   "source": [
    "# 파이썬 버젼 확인\n",
    "import sys\n",
    "print(sys.version)"
   ]
  },
  {
   "cell_type": "markdown",
   "id": "norwegian-learning",
   "metadata": {},
   "source": [
    "<h3> 1.3 파이썬 인터프리터 </h3>"
   ]
  },
  {
   "cell_type": "markdown",
   "id": "naked-possession",
   "metadata": {},
   "source": [
    "- 파이썬 인터프리터 언어로 대화하듯 프로그래밍 가능 <br>\n",
    "- 산술연산 (- * + / **(제곱))"
   ]
  },
  {
   "cell_type": "code",
   "execution_count": 9,
   "id": "terminal-daily",
   "metadata": {},
   "outputs": [
    {
     "name": "stdout",
     "output_type": "stream",
     "text": [
      "<class 'int'>\n",
      "<class 'float'>\n",
      "<class 'str'>\n"
     ]
    }
   ],
   "source": [
    "# 자료형\n",
    "print(type(10))\n",
    "print(type(2.718))\n",
    "print(type(\"hello\"))"
   ]
  },
  {
   "cell_type": "code",
   "execution_count": 11,
   "id": "apart-guyana",
   "metadata": {},
   "outputs": [
    {
     "name": "stdout",
     "output_type": "stream",
     "text": [
      "10\n",
      "100\n",
      "314.0\n",
      "<class 'float'>\n"
     ]
    }
   ],
   "source": [
    "# 변수 지정\n",
    "x= 10\n",
    "print(x)\n",
    "x=100\n",
    "print(x)\n",
    "y= 3.14 \n",
    "print(x*y)\n",
    "print(type(x*y))"
   ]
  },
  {
   "cell_type": "markdown",
   "id": "ceramic-debate",
   "metadata": {},
   "source": [
    "파이썬은 **동적** 언어로 분류되는 프로그래밍 언어 <br>\n",
    "동적 = 변수의 자료형을 상황에 맞게 자동으로 결정한다는 뜻<br>"
   ]
  },
  {
   "cell_type": "code",
   "execution_count": 13,
   "id": "breeding-jewelry",
   "metadata": {},
   "outputs": [
    {
     "name": "stdout",
     "output_type": "stream",
     "text": [
      "[1, 2, 3, 4, 5]\n",
      "5\n",
      "1\n",
      "5\n",
      "[1, 2, 3, 4, 99]\n"
     ]
    }
   ],
   "source": [
    "# 리스트\n",
    "a = [1,2,3,4,5]\n",
    "print(a) # 리스트 전체 출력\n",
    "print(len(a)) # 길이\n",
    "print(a[0]) # 첫번째 원소 \n",
    "print(a[4]) # 5번째 원소\n",
    "a[4]=99 # 5번째 원소 99로 변경\n",
    "print(a) # 전체 출력"
   ]
  },
  {
   "cell_type": "code",
   "execution_count": 14,
   "id": "civilian-woman",
   "metadata": {},
   "outputs": [
    {
     "name": "stdout",
     "output_type": "stream",
     "text": [
      "[1, 2, 3, 4, 99]\n",
      "[1, 2]\n",
      "[2, 3, 4, 99]\n",
      "[1, 2, 3]\n",
      "[1, 2, 3, 4]\n",
      "[1, 2, 3]\n"
     ]
    }
   ],
   "source": [
    "# 리스트 슬라이싱\n",
    "print(a)\n",
    "print(a[0:2]) #0~1 인덱스까지\n",
    "print(a[1:]) # 1부터 끝까지\n",
    "print(a[:3]) # 0~2\n",
    "print(a[:-1]) # 처음부터 마지막 원소 앞까지\n",
    "print(a[:-2]) # 0~2"
   ]
  },
  {
   "cell_type": "code",
   "execution_count": 17,
   "id": "revolutionary-owner",
   "metadata": {},
   "outputs": [
    {
     "name": "stdout",
     "output_type": "stream",
     "text": [
      "180\n",
      "{'height': 180, 'weight': 70}\n"
     ]
    }
   ],
   "source": [
    "# 딕셔너리 \n",
    "# 키와 값을 한쌍으로 저장\n",
    "me = {'height':180} # 생성\n",
    "print(me['height']) \n",
    "me['weight'] = 70\n",
    "print(me)"
   ]
  },
  {
   "cell_type": "code",
   "execution_count": 19,
   "id": "greenhouse-julian",
   "metadata": {},
   "outputs": [
    {
     "name": "stdout",
     "output_type": "stream",
     "text": [
      "<class 'bool'>\n",
      "False\n",
      "False\n",
      "True\n"
     ]
    }
   ],
   "source": [
    "# bool \n",
    "# and, or, not 연산자 사용가능\n",
    "hungry = True\n",
    "sleepy = False\n",
    "print(type(hungry))\n",
    "print(not hungry)\n",
    "print(hungry and sleepy)\n",
    "print(hungry or sleepy)\n"
   ]
  },
  {
   "cell_type": "code",
   "execution_count": 21,
   "id": "seventh-indicator",
   "metadata": {},
   "outputs": [
    {
     "name": "stdout",
     "output_type": "stream",
     "text": [
      "I'm hungry\n",
      "I'm not hungry\n",
      "I'm sleepy\n"
     ]
    }
   ],
   "source": [
    "# if 문 (조건문)\n",
    "hungry = True\n",
    "if hungry:\n",
    "    print(\"I'm hungry\") # 들여쓰기 중요\n",
    "    \n",
    "hungry = False\n",
    "if hungry:\n",
    "    print(\"I'm hungry\")\n",
    "else:\n",
    "    print(\"I'm not hungry\")\n",
    "    print(\"I'm sleepy\")\n",
    "    "
   ]
  },
  {
   "cell_type": "code",
   "execution_count": 22,
   "id": "inappropriate-cradle",
   "metadata": {},
   "outputs": [
    {
     "name": "stdout",
     "output_type": "stream",
     "text": [
      "1\n",
      "2\n",
      "3\n"
     ]
    }
   ],
   "source": [
    "# for문  (반복문)\n",
    "for i in [1,2,3]:\n",
    "    print(i)"
   ]
  },
  {
   "cell_type": "code",
   "execution_count": 23,
   "id": "acceptable-navigation",
   "metadata": {},
   "outputs": [
    {
     "name": "stdout",
     "output_type": "stream",
     "text": [
      "Hello world\n"
     ]
    }
   ],
   "source": [
    "# 함수 (특정기능을 수행하는 일련의 명령들을 묶음)\n",
    "def hello():\n",
    "    print(\"Hello world\")\n",
    "hello()"
   ]
  },
  {
   "cell_type": "code",
   "execution_count": 25,
   "id": "liable-mixer",
   "metadata": {},
   "outputs": [
    {
     "name": "stdout",
     "output_type": "stream",
     "text": [
      "Hello cat!\n"
     ]
    }
   ],
   "source": [
    "# 인수를 취하는 함수\n",
    "def hello(object):\n",
    "    print(\"Hello \"+object + \"!\")\n",
    "hello(\"cat\")"
   ]
  },
  {
   "cell_type": "markdown",
   "id": "surface-prior",
   "metadata": {},
   "source": [
    "<h3> 1.4 파이썬 스크립트 파일 </h3>"
   ]
  },
  {
   "cell_type": "code",
   "execution_count": null,
   "id": "sudden-statistics",
   "metadata": {},
   "outputs": [],
   "source": [
    "# 파일 저장하기 \n",
    "python hungry.py"
   ]
  },
  {
   "cell_type": "code",
   "execution_count": 27,
   "id": "cloudy-decision",
   "metadata": {},
   "outputs": [
    {
     "name": "stdout",
     "output_type": "stream",
     "text": [
      "Initialized!\n",
      "hello Bale!\n",
      "Good-bye Bale!\n"
     ]
    }
   ],
   "source": [
    "# 클래스\n",
    "# 개발자가 직접 클래스를 정의하면 독자적인 자료형을 만들 수 있다.\n",
    "class man:\n",
    "    def __init__(self,name): # 생성하면 실행된다. # name은 인스턴트 변수\n",
    "        self.name = name \n",
    "        print(\"Initialized!\")\n",
    "    def hello(self):\n",
    "        print(\"hello \"+ self.name+ \"!\")\n",
    "    def goodbye(self):\n",
    "        print(\"Good-bye \"+ self.name+ \"!\")\n",
    "\n",
    "m = man(\"Bale\")\n",
    "m.hello()\n",
    "m.goodbye()"
   ]
  },
  {
   "cell_type": "markdown",
   "id": "labeled-template",
   "metadata": {},
   "source": [
    "<h3> 1.5 Numpy </h3>"
   ]
  },
  {
   "cell_type": "code",
   "execution_count": 28,
   "id": "characteristic-provision",
   "metadata": {},
   "outputs": [],
   "source": [
    "# numpy 가져오기\n",
    "# 외부 라이브러리라서\n",
    "import numpy as np"
   ]
  },
  {
   "cell_type": "code",
   "execution_count": 29,
   "id": "stopped-jurisdiction",
   "metadata": {},
   "outputs": [
    {
     "name": "stdout",
     "output_type": "stream",
     "text": [
      "[1. 2. 3.]\n",
      "<class 'numpy.ndarray'>\n"
     ]
    }
   ],
   "source": [
    "# 넘파이 배열 생성 \n",
    "x = np.array([1.0,2.0,3.0])\n",
    "print(x)\n",
    "print(type(x))"
   ]
  },
  {
   "cell_type": "code",
   "execution_count": 30,
   "id": "narrow-timing",
   "metadata": {},
   "outputs": [
    {
     "name": "stdout",
     "output_type": "stream",
     "text": [
      "[3. 6. 9.]\n",
      "[-1. -2. -3.]\n",
      "[ 2.  8. 18.]\n",
      "[0.5 0.5 0.5]\n"
     ]
    }
   ],
   "source": [
    "# 넘파이 산술연산\n",
    "x = np.array([1.0,2.0,3.0])\n",
    "y = np.array([2.0,4.0,6.0])\n",
    "print(x+y)\n",
    "print(x-y)\n",
    "print(x*y)\n",
    "print(x/y)\n",
    "# 주의할점\n",
    "# 배열 x와 y의 원소 수가 같아야지 가능\n"
   ]
  },
  {
   "cell_type": "code",
   "execution_count": 31,
   "id": "painted-mississippi",
   "metadata": {},
   "outputs": [
    {
     "name": "stdout",
     "output_type": "stream",
     "text": [
      "[[1 2]\n",
      " [3 4]]\n",
      "(2, 2)\n",
      "int32\n"
     ]
    }
   ],
   "source": [
    "# 넘파이의 n차원배열 \n",
    "a = np.array([[1,2],[3,4]])\n",
    "print(a)\n",
    "print(a.shape) # 행렬 형상\n",
    "print(a.dtype) # 자료형"
   ]
  },
  {
   "cell_type": "code",
   "execution_count": 32,
   "id": "collectible-montreal",
   "metadata": {},
   "outputs": [
    {
     "name": "stdout",
     "output_type": "stream",
     "text": [
      "[[ 4  2]\n",
      " [ 3 10]]\n",
      "[[ 3  0]\n",
      " [ 0 24]]\n"
     ]
    }
   ],
   "source": [
    "b = np.array([[3,0],[0,6]])\n",
    "print(a+b)\n",
    "print(a*b)"
   ]
  },
  {
   "cell_type": "code",
   "execution_count": 33,
   "id": "emotional-investigator",
   "metadata": {},
   "outputs": [
    {
     "name": "stdout",
     "output_type": "stream",
     "text": [
      "[[1 2]\n",
      " [3 4]]\n",
      "[[10 20]\n",
      " [30 40]]\n"
     ]
    }
   ],
   "source": [
    "print(a)\n",
    "print(a*10) # 브로드캐스트 기능"
   ]
  },
  {
   "cell_type": "markdown",
   "id": "hybrid-cricket",
   "metadata": {},
   "source": [
    "numpy array는 n차원 배열을 작성할 수 있다.<br>\n",
    "\n",
    "| 배열 형태| 수학적 | 컴퓨터쪽 일반화 |\n",
    "|---|:---:|---:|\n",
    "| 1차원 배열 | 벡터 | 1D 텐서 |\n",
    "| 2차원 배열 | 행렬 | 2D 텐서 |\n",
    "\n"
   ]
  },
  {
   "cell_type": "code",
   "execution_count": 34,
   "id": "disciplinary-marker",
   "metadata": {},
   "outputs": [
    {
     "data": {
      "text/plain": [
       "array([[10, 40],\n",
       "       [30, 80]])"
      ]
     },
     "execution_count": 34,
     "metadata": {},
     "output_type": "execute_result"
    }
   ],
   "source": [
    "# 브로드 캐스트\n",
    "a = np.array([[1,2],[3,4]])\n",
    "b = np.array([10,20])\n",
    "a*b"
   ]
  },
  {
   "cell_type": "code",
   "execution_count": 35,
   "id": "funny-springfield",
   "metadata": {},
   "outputs": [
    {
     "name": "stdout",
     "output_type": "stream",
     "text": [
      "[[51 55]\n",
      " [14 19]\n",
      " [ 0  4]]\n",
      "[51 55]\n",
      "55\n"
     ]
    }
   ],
   "source": [
    "# 원소 접근 (원소 인덱스는 0부터 시작)\n",
    "x = np.array([[51,55],[14,19],[0,4]])\n",
    "print(x)\n",
    "print(x[0]) # 0행\n",
    "print(x[0][1])# 0,1위치 원소"
   ]
  },
  {
   "cell_type": "code",
   "execution_count": 36,
   "id": "geological-custody",
   "metadata": {},
   "outputs": [
    {
     "name": "stdout",
     "output_type": "stream",
     "text": [
      "[51 55]\n",
      "[14 19]\n",
      "[0 4]\n"
     ]
    }
   ],
   "source": [
    "# for문으로 접근\n",
    "for row in x:\n",
    "    print(row)"
   ]
  },
  {
   "cell_type": "code",
   "execution_count": 37,
   "id": "swiss-firmware",
   "metadata": {},
   "outputs": [
    {
     "name": "stdout",
     "output_type": "stream",
     "text": [
      "[51 55 14 19  0  4]\n",
      "[51 14  0]\n"
     ]
    }
   ],
   "source": [
    "# 인덱스를 배열로 지정해 한 번에 여러 원소 접근\n",
    "x = x.flatten()\n",
    "print(x)\n",
    "print(x[np.array([0,2,4])])"
   ]
  },
  {
   "cell_type": "code",
   "execution_count": 38,
   "id": "accessible-enzyme",
   "metadata": {},
   "outputs": [
    {
     "name": "stdout",
     "output_type": "stream",
     "text": [
      "[ True  True False  True False False]\n",
      "[51 55 19]\n"
     ]
    }
   ],
   "source": [
    "# 특정 조건을 만족하는 원소 얻기\n",
    "print(x>15)\n",
    "print(x[x>15])"
   ]
  },
  {
   "cell_type": "markdown",
   "id": "inappropriate-sheet",
   "metadata": {},
   "source": [
    "[note]<br>\n",
    "- 파이썬 같은 동적 언어는 정적 언어(c,c++)보다 처리속도가 늦음<br>\n",
    "- 빠른 성능이 요구될 경우 해당 부분을 정적 언어로 처리하기도 함 <br>\n",
    "- 넘파이도 주된 처리는 정적언어로 구현됨"
   ]
  },
  {
   "cell_type": "markdown",
   "id": "extraordinary-bruce",
   "metadata": {},
   "source": [
    "<h3> 1.6 matplotlib </h3>"
   ]
  },
  {
   "cell_type": "code",
   "execution_count": 39,
   "id": "educated-globe",
   "metadata": {},
   "outputs": [
    {
     "data": {
      "image/png": "[encoded data removed]",
      "text/plain": [
       "<Figure size 432x288 with 1 Axes>"
      ]
     },
     "metadata": {
      "needs_background": "light"
     },
     "output_type": "display_data"
    }
   ],
   "source": [
    "# 단순 그래프 그리기\n",
    "import numpy as np\n",
    "import matplotlib.pyplot as plt\n",
    "\n",
    "# data\n",
    "x = np.arange(0,6,0.1) # 0~5.9 까지 0.1 간격으로 생성\n",
    "y = np.sin(x)\n",
    "\n",
    "# 그래프 그리기\n",
    "plt.plot(x,y)\n",
    "plt.show()"
   ]
  },
  {
   "cell_type": "code",
   "execution_count": 42,
   "id": "subjective-young",
   "metadata": {},
   "outputs": [
    {
     "data": {
      "image/png": "[encoded data removed]",
      "text/plain": [
       "<Figure size 432x288 with 1 Axes>"
      ]
     },
     "metadata": {
      "needs_background": "light"
     },
     "output_type": "display_data"
    }
   ],
   "source": [
    "# pyplot 의 기능\n",
    "import numpy as np\n",
    "import matplotlib.pyplot as plt\n",
    "\n",
    "# data\n",
    "x = np.arange(0,6,0.1)\n",
    "y1 = np.sin(x)\n",
    "y2 = np.cos(x)\n",
    "\n",
    "# 그래프 그리기\n",
    "plt.plot(x,y1, label=\"sin\")\n",
    "plt.plot(x,y2, linestyle=\"--\", label=\"cos\") # cos는 점선으로 \n",
    "plt.xlabel(\"x\") # x 축 이름\n",
    "plt.ylabel(\"y\") # y 축 이름\n",
    "plt.title(\"sin & cos\") # 제목\n",
    "plt.legend()\n",
    "plt.show()"
   ]
  },
  {
   "cell_type": "code",
   "execution_count": 44,
   "id": "handled-enzyme",
   "metadata": {},
   "outputs": [
    {
     "data": {
      "image/png": "[encoded data removed]",
      "text/plain": [
       "<Figure size 432x288 with 1 Axes>"
      ]
     },
     "metadata": {
      "needs_background": "light"
     },
     "output_type": "display_data"
    }
   ],
   "source": [
    "# 이미지 표ㅕ시하기 \n",
    "from matplotlib.image import imread\n",
    "\n",
    "img = imread('교재.png')\n",
    "\n",
    "plt.imshow(img)\n",
    "plt.show()"
   ]
  },
  {
   "cell_type": "markdown",
   "id": "prime-guitar",
   "metadata": {},
   "source": [
    "<h3> 정리</h3>\n",
    "1. 파이썬은 간단하고 익히기 쉬운 프로그래밍 언어<br>\n",
    "2. 파이썬은 오픈 소스여서 자유롭게 사용할 수 있다.<br>\n",
    "3. 이 책은 딥러닝 구현에 파이썬 3버전을 이용한다. <br>\n",
    "4. 외부 라이브러리로는 넘파이와 matplotlib을 이용한다 <br>\n",
    "5. 파이썬을 실행하는 방식에는 '인터프리터'와 '스크립트 파일' 두가지가 있다.<br>\n",
    "6. 파이썬에서는 함수와 클래스 같은 모듈로 구현을 정리할 수 있다.<br>\n",
    "7. 넘파이는 다차원 배열을 다루는 편리한 메서드를 많이 제공한다. <br>"
   ]
  },
  {
   "cell_type": "code",
   "execution_count": null,
   "id": "sapphire-cambridge",
   "metadata": {},
   "outputs": [],
   "source": []
  }
 ],
 "metadata": {
  "kernelspec": {
   "display_name": "[python36.x]",
   "language": "python",
   "name": "lee36"
  },
  "language_info": {
   "codemirror_mode": {
    "name": "ipython",
    "version": 3
   },
   "file_extension": ".py",
   "mimetype": "text/x-python",
   "name": "python",
   "nbconvert_exporter": "python",
   "pygments_lexer": "ipython3",
   "version": "3.6.10"
  }
 },
 "nbformat": 4,
 "nbformat_minor": 5
}
